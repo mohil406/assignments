{
 "cells": [
  {
   "cell_type": "markdown",
   "id": "be109f7a-ed14-4402-8097-b3c4024788c4",
   "metadata": {},
   "source": [
    "Answer No.1 -->"
   ]
  },
  {
   "cell_type": "code",
   "execution_count": 1,
   "id": "2fcde9f1-8469-4656-8799-2ed261a40570",
   "metadata": {},
   "outputs": [],
   "source": [
    "name = 'Mohil'\n",
    "\n",
    "l = [1,2,3,True,'sudh',3.40,3+4j]\n",
    "\n",
    "num = 3.456\n",
    "\n",
    "t = (1,2,3,4,5)\n"
   ]
  },
  {
   "cell_type": "markdown",
   "id": "410f3849-9838-4750-8f82-5d1366b36ae1",
   "metadata": {},
   "source": [
    "Answer No.2 -->"
   ]
  },
  {
   "cell_type": "markdown",
   "id": "18e680c7-5759-430f-b13d-332a5d6dc4c8",
   "metadata": {},
   "source": [
    " 1.-> str \n",
    " 2.-> error\n",
    " 3.-> list\n",
    " 4.-> int"
   ]
  },
  {
   "cell_type": "markdown",
   "id": "c2bf6a1a-dcb9-48b5-9c7a-2c60e2641305",
   "metadata": {},
   "source": [
    "Answer No.3 -->"
   ]
  },
  {
   "cell_type": "markdown",
   "id": "8b1093bb-98cd-48cd-8840-19f203a7518e",
   "metadata": {},
   "source": [
    "(i) / -> This is used for division of 2 numbers.\n",
    "         for example : 6/2 = 3\n"
   ]
  },
  {
   "cell_type": "code",
   "execution_count": 12,
   "id": "c841f3f3-ae15-4d58-9062-8f003db9efd0",
   "metadata": {},
   "outputs": [
    {
     "data": {
      "text/plain": [
       "3.0"
      ]
     },
     "execution_count": 12,
     "metadata": {},
     "output_type": "execute_result"
    }
   ],
   "source": [
    "6/2"
   ]
  },
  {
   "cell_type": "markdown",
   "id": "1a133b93-b2c3-41c7-b270-64164219d6fb",
   "metadata": {},
   "source": [
    "(ii) % -> It is a modulus operator. It will give remainder of division. for example : 5 % 3 = 2\n"
   ]
  },
  {
   "cell_type": "code",
   "execution_count": 13,
   "id": "87f57f4c-651a-4771-b4c0-fa2ca7f276ad",
   "metadata": {},
   "outputs": [
    {
     "data": {
      "text/plain": [
       "2"
      ]
     },
     "execution_count": 13,
     "metadata": {},
     "output_type": "execute_result"
    }
   ],
   "source": [
    "5%3"
   ]
  },
  {
   "cell_type": "markdown",
   "id": "42ec7281-150b-428b-8306-b531f484f80e",
   "metadata": {},
   "source": [
    "(iii) // -> This operator first divide the value and then takes the greatest integer function. for example : 9 // 2 = 4\n"
   ]
  },
  {
   "cell_type": "code",
   "execution_count": 14,
   "id": "8935a4de-3f69-43ef-86f3-ddba910e9074",
   "metadata": {},
   "outputs": [
    {
     "data": {
      "text/plain": [
       "4"
      ]
     },
     "execution_count": 14,
     "metadata": {},
     "output_type": "execute_result"
    }
   ],
   "source": [
    "9 // 2 "
   ]
  },
  {
   "cell_type": "markdown",
   "id": "49f36880-5860-4116-8368-8aef9a1cb1b6",
   "metadata": {},
   "source": [
    "(iv) ** -> It is a exponent operator. for example : 2 ** 3 = 8"
   ]
  },
  {
   "cell_type": "code",
   "execution_count": 15,
   "id": "3278a236-9a11-4b27-a88a-fcc292bb4334",
   "metadata": {},
   "outputs": [
    {
     "data": {
      "text/plain": [
       "8"
      ]
     },
     "execution_count": 15,
     "metadata": {},
     "output_type": "execute_result"
    }
   ],
   "source": [
    "2 ** 3"
   ]
  },
  {
   "cell_type": "markdown",
   "id": "6b3d15c5-a1f7-47f8-9db6-531bde1ec34e",
   "metadata": {},
   "source": [
    "Answer No.4 -->"
   ]
  },
  {
   "cell_type": "code",
   "execution_count": 16,
   "id": "d29c3da7-d644-461a-bfe6-5fd8b6d78c7f",
   "metadata": {},
   "outputs": [
    {
     "name": "stdout",
     "output_type": "stream",
     "text": [
      "1\n",
      "<class 'int'>\n",
      "2\n",
      "<class 'int'>\n",
      "3\n",
      "<class 'int'>\n",
      "4\n",
      "<class 'int'>\n",
      "5\n",
      "<class 'int'>\n",
      "True\n",
      "<class 'bool'>\n",
      "Mohil\n",
      "<class 'str'>\n",
      "3.456\n",
      "<class 'float'>\n",
      "(4+5j)\n",
      "<class 'complex'>\n",
      "shubh\n",
      "<class 'str'>\n"
     ]
    }
   ],
   "source": [
    "l = [1,2,3,4,5, True , 'Mohil', 3.456 , 4+5j , 'shubh']\n",
    "for i in l :\n",
    "    print(i)\n",
    "    print(type(i))"
   ]
  },
  {
   "cell_type": "markdown",
   "id": "2d568109-5ba2-4d48-b094-b48bc06784a0",
   "metadata": {},
   "source": [
    "Answer No. 5 -->"
   ]
  },
  {
   "cell_type": "code",
   "execution_count": 8,
   "id": "f4945864-1944-47be-942e-4e106049822a",
   "metadata": {},
   "outputs": [
    {
     "name": "stdout",
     "output_type": "stream",
     "text": [
      "A is divisible by B by 5.0 times\n"
     ]
    }
   ],
   "source": [
    "A = 50\n",
    "B = 10\n",
    "C = A/B\n",
    "while A%B == 0 :\n",
    "     print(f\"A is divisible by B by {C} times\")\n",
    "     break\n",
    "else :\n",
    "    print('A is not completely divisible by B')\n"
   ]
  },
  {
   "cell_type": "markdown",
   "id": "5eefe3e2-a638-4bcb-b0a2-de2ca551ee7f",
   "metadata": {},
   "source": [
    "Answer No.6 -->"
   ]
  },
  {
   "cell_type": "code",
   "execution_count": 16,
   "id": "09ef44ee-d426-47e9-a9a5-146aaea9c2d3",
   "metadata": {},
   "outputs": [
    {
     "name": "stdout",
     "output_type": "stream",
     "text": [
      "1 is not divisible by 3\n",
      "2 is not divisible by 3\n",
      "3 is divisible by 3\n",
      "4 is not divisible by 3\n",
      "5 is not divisible by 3\n",
      "6 is divisible by 3\n",
      "7 is not divisible by 3\n",
      "8 is not divisible by 3\n",
      "9 is divisible by 3\n",
      "10 is not divisible by 3\n",
      "11 is not divisible by 3\n",
      "12 is divisible by 3\n",
      "13 is not divisible by 3\n",
      "14 is not divisible by 3\n",
      "15 is divisible by 3\n",
      "16 is not divisible by 3\n",
      "17 is not divisible by 3\n",
      "18 is divisible by 3\n",
      "19 is not divisible by 3\n",
      "20 is not divisible by 3\n",
      "21 is divisible by 3\n",
      "22 is not divisible by 3\n",
      "23 is not divisible by 3\n",
      "24 is divisible by 3\n",
      "25 is not divisible by 3\n"
     ]
    }
   ],
   "source": [
    "l = list(range(1,26))\n",
    "for i in l :\n",
    "    if i % 3 == 0 :\n",
    "        print(f\"{i} is divisible by 3\")\n",
    "    else :\n",
    "        print(f\"{i} is not divisible by 3\")"
   ]
  },
  {
   "cell_type": "markdown",
   "id": "8bf697f2-9d5c-415a-b573-6e46e62d823e",
   "metadata": {},
   "source": [
    "Answer No. 7 -->"
   ]
  },
  {
   "cell_type": "markdown",
   "id": "ca0d6a19-d0d7-4d07-94d0-afba3304b59b",
   "metadata": {},
   "source": [
    "Mutable Object are used those objects in which we can use  items asignments through index's.\n",
    "for example : list are mutable."
   ]
  },
  {
   "cell_type": "code",
   "execution_count": 17,
   "id": "94e091c3-d715-412d-9f30-5aa0d6ab78e2",
   "metadata": {},
   "outputs": [
    {
     "data": {
      "text/plain": [
       "[2, 2, 3, 4, 5]"
      ]
     },
     "execution_count": 17,
     "metadata": {},
     "output_type": "execute_result"
    }
   ],
   "source": [
    "l = [1,2,3,4,5]\n",
    "l[0] = 2\n",
    "l"
   ]
  },
  {
   "cell_type": "markdown",
   "id": "43eecc2d-548e-4341-abb1-efb15fb11ba6",
   "metadata": {},
   "source": [
    "we can clearly see by using index we can change the value 1 to 2.\n",
    "\n",
    "But we can't use this concept in immutable objects.\n",
    "for exmaple: string , tuple  by immutable."
   ]
  },
  {
   "cell_type": "code",
   "execution_count": 18,
   "id": "32543183-4a87-4b92-981f-b0628150290f",
   "metadata": {},
   "outputs": [
    {
     "ename": "TypeError",
     "evalue": "'tuple' object does not support item assignment",
     "output_type": "error",
     "traceback": [
      "\u001b[0;31m---------------------------------------------------------------------------\u001b[0m",
      "\u001b[0;31mTypeError\u001b[0m                                 Traceback (most recent call last)",
      "Cell \u001b[0;32mIn[18], line 2\u001b[0m\n\u001b[1;32m      1\u001b[0m t \u001b[38;5;241m=\u001b[39m (\u001b[38;5;241m1\u001b[39m,\u001b[38;5;241m2\u001b[39m,\u001b[38;5;241m3\u001b[39m,\u001b[38;5;241m4\u001b[39m,\u001b[38;5;241m5\u001b[39m)\n\u001b[0;32m----> 2\u001b[0m \u001b[43mt\u001b[49m\u001b[43m[\u001b[49m\u001b[38;5;241;43m0\u001b[39;49m\u001b[43m]\u001b[49m \u001b[38;5;241m=\u001b[39m \u001b[38;5;241m2\u001b[39m\n\u001b[1;32m      3\u001b[0m t\n",
      "\u001b[0;31mTypeError\u001b[0m: 'tuple' object does not support item assignment"
     ]
    }
   ],
   "source": [
    "t = (1,2,3,4,5)\n",
    "t[0] = 2\n",
    "t"
   ]
  },
  {
   "cell_type": "code",
   "execution_count": 19,
   "id": "755e9b26-7c0e-468d-b511-e70f528fbf60",
   "metadata": {},
   "outputs": [
    {
     "ename": "TypeError",
     "evalue": "'str' object does not support item assignment",
     "output_type": "error",
     "traceback": [
      "\u001b[0;31m---------------------------------------------------------------------------\u001b[0m",
      "\u001b[0;31mTypeError\u001b[0m                                 Traceback (most recent call last)",
      "Cell \u001b[0;32mIn[19], line 2\u001b[0m\n\u001b[1;32m      1\u001b[0m s \u001b[38;5;241m=\u001b[39m \u001b[38;5;124m\"\u001b[39m\u001b[38;5;124mMohil\u001b[39m\u001b[38;5;124m\"\u001b[39m\n\u001b[0;32m----> 2\u001b[0m \u001b[43ms\u001b[49m\u001b[43m[\u001b[49m\u001b[38;5;241;43m0\u001b[39;49m\u001b[43m]\u001b[49m \u001b[38;5;241m=\u001b[39m \u001b[38;5;124m'\u001b[39m\u001b[38;5;124mS\u001b[39m\u001b[38;5;124m'\u001b[39m\n\u001b[1;32m      3\u001b[0m s\n",
      "\u001b[0;31mTypeError\u001b[0m: 'str' object does not support item assignment"
     ]
    }
   ],
   "source": [
    "s = \"Mohil\"\n",
    "s[0] = 'S'\n",
    "s"
   ]
  },
  {
   "cell_type": "markdown",
   "id": "74d53a03-9d59-48cc-9d16-f9ca3221f1fc",
   "metadata": {},
   "source": [
    "we clearly see that we can't assign items using index's.\n",
    "that is the most common difference between mutable and immutable objects."
   ]
  },
  {
   "cell_type": "code",
   "execution_count": null,
   "id": "9022acc9-8c75-4e94-af63-07bbec898f94",
   "metadata": {},
   "outputs": [],
   "source": []
  }
 ],
 "metadata": {
  "kernelspec": {
   "display_name": "Python 3 (ipykernel)",
   "language": "python",
   "name": "python3"
  },
  "language_info": {
   "codemirror_mode": {
    "name": "ipython",
    "version": 3
   },
   "file_extension": ".py",
   "mimetype": "text/x-python",
   "name": "python",
   "nbconvert_exporter": "python",
   "pygments_lexer": "ipython3",
   "version": "3.10.9"
  }
 },
 "nbformat": 4,
 "nbformat_minor": 5
}
