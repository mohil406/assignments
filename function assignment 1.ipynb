{
 "cells": [
  {
   "cell_type": "markdown",
   "id": "2e495d13-d339-4598-8bb6-fa1141834216",
   "metadata": {},
   "source": [
    "Answer No. 1 -->"
   ]
  },
  {
   "cell_type": "markdown",
   "id": "04d555ad-ce29-4e0d-b33d-c8348d51bcad",
   "metadata": {},
   "source": [
    "def keyword is used to create a function in python language."
   ]
  },
  {
   "cell_type": "code",
   "execution_count": 3,
   "id": "8d925d9e-44ed-4416-a818-e555ff413e46",
   "metadata": {},
   "outputs": [],
   "source": [
    "def test() :\n",
    "    l1 = []\n",
    "    for i in range(1 , 25) :\n",
    "        if (i % 2) != 0 :\n",
    "            l1.append(i)\n",
    "    return l1\n",
    "            \n",
    "        "
   ]
  },
  {
   "cell_type": "code",
   "execution_count": 4,
   "id": "eb64f721-b172-452c-badf-2e94ad41e738",
   "metadata": {},
   "outputs": [
    {
     "data": {
      "text/plain": [
       "[1, 3, 5, 7, 9, 11, 13, 15, 17, 19, 21, 23]"
      ]
     },
     "execution_count": 4,
     "metadata": {},
     "output_type": "execute_result"
    }
   ],
   "source": [
    "test()\n"
   ]
  },
  {
   "cell_type": "markdown",
   "id": "343e8844-f0d4-4813-825f-b914617b303c",
   "metadata": {},
   "source": [
    "Here we clearly see the sequence of odd numbers in range (1,25)"
   ]
  },
  {
   "cell_type": "markdown",
   "id": "f7a89f1b-985b-4c54-b663-45e692eea8bc",
   "metadata": {},
   "source": [
    "Answer No.2 -->"
   ]
  },
  {
   "cell_type": "markdown",
   "id": "fe0e875b-6bba-4ccc-882d-d8ab3b03b140",
   "metadata": {},
   "source": [
    "*args & **kwargs both are used when we want to give set of arguments as an input.\n",
    "These arguments store in tuple when we use *args.\n",
    "Similiarly arguments store in dictionary when we use *kwargs."
   ]
  },
  {
   "cell_type": "code",
   "execution_count": 30,
   "id": "ce109edb-213f-4288-9093-ac8254a8216a",
   "metadata": {},
   "outputs": [
    {
     "data": {
      "text/plain": [
       "tuple"
      ]
     },
     "execution_count": 30,
     "metadata": {},
     "output_type": "execute_result"
    }
   ],
   "source": [
    "def test_1(*args) :\n",
    "    return args\n",
    "\n",
    "type(test_1())"
   ]
  },
  {
   "cell_type": "code",
   "execution_count": 31,
   "id": "4b8d304b-0c87-4bc1-804b-b93796ad9dce",
   "metadata": {},
   "outputs": [
    {
     "data": {
      "text/plain": [
       "(1, 2, 3, 4, 'mohil')"
      ]
     },
     "execution_count": 31,
     "metadata": {},
     "output_type": "execute_result"
    }
   ],
   "source": [
    "test_1(1,2,3,4,'mohil')\n"
   ]
  },
  {
   "cell_type": "markdown",
   "id": "a4c0ecba-b965-4e89-b071-fd9c921698aa",
   "metadata": {},
   "source": [
    "we clearly see from above example that on using *args it can store given input in an tuple."
   ]
  },
  {
   "cell_type": "code",
   "execution_count": 9,
   "id": "2c9be1d7-91c4-4fa3-a073-e54688e57c92",
   "metadata": {},
   "outputs": [],
   "source": [
    "def test_2(**kwargs) :\n",
    "    return kwargs\n",
    "    "
   ]
  },
  {
   "cell_type": "code",
   "execution_count": 23,
   "id": "b42c0fae-72a7-4ff7-a685-c10485e44f78",
   "metadata": {},
   "outputs": [
    {
     "data": {
      "text/plain": [
       "{'name': 'mohil', 'second_name': 'dubey', 'c': 4.6}"
      ]
     },
     "execution_count": 23,
     "metadata": {},
     "output_type": "execute_result"
    }
   ],
   "source": [
    "test_2(name = 'mohil' , second_name = 'dubey' , c = 4.60)"
   ]
  },
  {
   "cell_type": "code",
   "execution_count": 24,
   "id": "9cda3a97-3112-458e-85cf-d8d611d4523b",
   "metadata": {},
   "outputs": [
    {
     "data": {
      "text/plain": [
       "dict"
      ]
     },
     "execution_count": 24,
     "metadata": {},
     "output_type": "execute_result"
    }
   ],
   "source": [
    "type(test_2())"
   ]
  },
  {
   "cell_type": "markdown",
   "id": "4904bc07-f7cb-4761-9aa3-1379fe013fa4",
   "metadata": {},
   "source": [
    "we clearly see from above example that on using **kwargs it can store given input in an dictionary."
   ]
  },
  {
   "cell_type": "markdown",
   "id": "ba0aa610-6846-416c-8df7-34076cd51b3f",
   "metadata": {},
   "source": [
    "Answer No.3-->"
   ]
  },
  {
   "cell_type": "markdown",
   "id": "a91632c1-2fc7-4e02-b558-a717d68c9b41",
   "metadata": {},
   "source": [
    "iterators are mainly used to allow for efficient access to elements in a sequence one at a time.\n",
    "We can print elements one by one using 'next' inbuilt function . \n",
    "First of all we have to convert the data types of given into iterator by using 'iter' inbuilt function. "
   ]
  },
  {
   "cell_type": "code",
   "execution_count": 2,
   "id": "dbcc0bc0-07f4-41a1-820b-e8179372ae28",
   "metadata": {},
   "outputs": [],
   "source": [
    "l = [2, 4, 6, 8, 10, 12, 14, 16, 18, 20]\n",
    "l1 = iter(l)"
   ]
  },
  {
   "cell_type": "code",
   "execution_count": 1,
   "id": "571978a2-952d-4c94-9cec-2aaf7c00fff3",
   "metadata": {},
   "outputs": [],
   "source": [
    "def test_3(l) :\n",
    "        for i in l:\n",
    "            yield i "
   ]
  },
  {
   "cell_type": "code",
   "execution_count": 3,
   "id": "643b3750-ff9a-46b2-894e-72adb9702ada",
   "metadata": {},
   "outputs": [
    {
     "name": "stdout",
     "output_type": "stream",
     "text": [
      "2\n",
      "4\n",
      "6\n",
      "8\n",
      "10\n"
     ]
    }
   ],
   "source": [
    "for i in range(5) :\n",
    "    print(next(test_3(l1)))"
   ]
  },
  {
   "cell_type": "markdown",
   "id": "1a66834c-f035-4c1f-8304-c79f9314e6d5",
   "metadata": {},
   "source": [
    "Answer No. 4 -->"
   ]
  },
  {
   "cell_type": "markdown",
   "id": "59d17e62-ea84-49d5-b8cc-de730b36e2ed",
   "metadata": {},
   "source": [
    "Generator function is used to give output as an sequence of values , not give a single value. As normal function is give single output as it uses 'return' keyword. but in generator  we will used 'yield' keyword."
   ]
  },
  {
   "cell_type": "markdown",
   "id": "0ab70360-ae6c-4551-8e6f-e42aded7e632",
   "metadata": {},
   "source": [
    "Main aim of yield keyword is to don't allocate space in memory for values it simply keep stores that values inside function and when we apply loop we will get the sequence or set of values."
   ]
  },
  {
   "cell_type": "code",
   "execution_count": 1,
   "id": "58cfd993-681f-4464-8cef-865d82cb6e9f",
   "metadata": {},
   "outputs": [],
   "source": [
    "l = [1,2,3,4,5]\n",
    "\n",
    "def test_4(n) :\n",
    "    a,b = 0,1\n",
    "    for i in range(n) :\n",
    "        yield a \n",
    "        a , b = b , a+b"
   ]
  },
  {
   "cell_type": "code",
   "execution_count": 3,
   "id": "65c40e9a-0507-4509-8354-4f661ea4115d",
   "metadata": {},
   "outputs": [
    {
     "name": "stdout",
     "output_type": "stream",
     "text": [
      "0\n",
      "1\n",
      "1\n",
      "2\n",
      "3\n",
      "5\n",
      "8\n",
      "13\n",
      "21\n",
      "34\n"
     ]
    }
   ],
   "source": [
    "for i in test_4(10) :\n",
    "    print(i)"
   ]
  },
  {
   "cell_type": "markdown",
   "id": "ad93833c-15c6-4cb4-af9e-c76bd97cdfea",
   "metadata": {},
   "source": [
    "Answer No. 6 -->"
   ]
  },
  {
   "cell_type": "code",
   "execution_count": 2,
   "id": "cf1fe021-26bd-4841-866b-ac95b594c15b",
   "metadata": {},
   "outputs": [],
   "source": [
    "def fibonacci() :\n",
    "    a , b = 0,1\n",
    "    while True :\n",
    "        yield a \n",
    "        a , b = b , a+b"
   ]
  },
  {
   "cell_type": "code",
   "execution_count": 3,
   "id": "16396ba3-21da-4891-b062-373c4f693ace",
   "metadata": {},
   "outputs": [],
   "source": [
    "fib = fibonacci()"
   ]
  },
  {
   "cell_type": "code",
   "execution_count": 4,
   "id": "92b7d7de-da58-4862-b07d-7b659d0b3830",
   "metadata": {},
   "outputs": [
    {
     "name": "stdout",
     "output_type": "stream",
     "text": [
      "0\n",
      "1\n",
      "1\n",
      "2\n",
      "3\n",
      "5\n",
      "8\n",
      "13\n",
      "21\n",
      "34\n"
     ]
    }
   ],
   "source": [
    "for i in range(10) :\n",
    "    print(next(fib))"
   ]
  },
  {
   "cell_type": "markdown",
   "id": "b205c863-06ae-411a-8690-6c409faf5713",
   "metadata": {},
   "source": [
    "Answer No. 7 -->"
   ]
  },
  {
   "cell_type": "code",
   "execution_count": 6,
   "id": "eb57f263-8a34-4720-864a-cc6150fb1f14",
   "metadata": {},
   "outputs": [],
   "source": [
    "s = 'pwskills'"
   ]
  },
  {
   "cell_type": "code",
   "execution_count": 10,
   "id": "33b40d35-1b02-445f-8aed-831c187b105d",
   "metadata": {},
   "outputs": [],
   "source": [
    "l1=[]\n",
    "def test_9(s) :\n",
    "    for i in s :\n",
    "        l1.append(i)\n",
    "    return l1\n",
    " \n",
    "    "
   ]
  },
  {
   "cell_type": "code",
   "execution_count": 11,
   "id": "a00394c0-1cb4-4fc2-8fa4-b4361e6a1526",
   "metadata": {},
   "outputs": [
    {
     "data": {
      "text/plain": [
       "['p', 'w', 's', 'k', 'i', 'l', 'l', 's']"
      ]
     },
     "execution_count": 11,
     "metadata": {},
     "output_type": "execute_result"
    }
   ],
   "source": [
    "test_9(s)"
   ]
  },
  {
   "cell_type": "markdown",
   "id": "e1d88ad3-a0e8-4562-ad9a-5ac2b3344258",
   "metadata": {},
   "source": [
    "Answer No. 8 -->"
   ]
  },
  {
   "cell_type": "code",
   "execution_count": 28,
   "id": "f46e0993-ff8f-4aa3-bb70-3691d656ee12",
   "metadata": {},
   "outputs": [],
   "source": [
    "def palindrome(n) :\n",
    "    while True :\n",
    "        n1 = str(n)\n",
    "        if str(n) == (n1[::-1]) :\n",
    "            return n,\"is a palindrome num\"\n",
    "        else :\n",
    "            return n,\" is not a palindrome\"\n",
    "    "
   ]
  },
  {
   "cell_type": "code",
   "execution_count": 29,
   "id": "d6133069-002b-4357-950f-6810613ad105",
   "metadata": {},
   "outputs": [
    {
     "data": {
      "text/plain": [
       "(121, 'is a palindrome num')"
      ]
     },
     "execution_count": 29,
     "metadata": {},
     "output_type": "execute_result"
    }
   ],
   "source": [
    "palindrome(121)"
   ]
  },
  {
   "cell_type": "code",
   "execution_count": 31,
   "id": "2e553a11-6ab9-4ce6-87ce-2a6e3615128d",
   "metadata": {},
   "outputs": [
    {
     "data": {
      "text/plain": [
       "(10, ' is not a palindrome')"
      ]
     },
     "execution_count": 31,
     "metadata": {},
     "output_type": "execute_result"
    }
   ],
   "source": [
    "palindrome(10)"
   ]
  },
  {
   "cell_type": "markdown",
   "id": "07abdb23-d918-41dc-aaa9-b41f156eceb1",
   "metadata": {},
   "source": [
    "we clearly see that in first output we will give input as 121 whose reverse is also 121 hence it is a palindrome no.\n",
    "But in second output we will give input as 10 whose reverse is not equal to 10 so it is not an palindrome no."
   ]
  },
  {
   "cell_type": "markdown",
   "id": "74ce8cbf-409d-4c90-bef7-15a8e02bc7dc",
   "metadata": {},
   "source": [
    "Answer No. 9 -->"
   ]
  },
  {
   "cell_type": "code",
   "execution_count": 35,
   "id": "8301acfd-36a6-4e07-8667-8c4d67ef6de6",
   "metadata": {},
   "outputs": [],
   "source": [
    "l = list(range(1,101))"
   ]
  },
  {
   "cell_type": "code",
   "execution_count": 42,
   "id": "33d6c086-7ca2-466a-ab73-b377937ae838",
   "metadata": {},
   "outputs": [],
   "source": [
    "l1 =[]\n",
    "def odd() :\n",
    "    for i in l :\n",
    "        if i%2 != 0 :\n",
    "            l1.append(i)\n",
    "    return l1\n",
    "    "
   ]
  },
  {
   "cell_type": "code",
   "execution_count": 45,
   "id": "f926c715-45cb-4fe0-978a-61f96ec50686",
   "metadata": {},
   "outputs": [
    {
     "data": {
      "text/plain": [
       "[1,\n",
       " 3,\n",
       " 5,\n",
       " 7,\n",
       " 9,\n",
       " 11,\n",
       " 13,\n",
       " 15,\n",
       " 17,\n",
       " 19,\n",
       " 21,\n",
       " 23,\n",
       " 25,\n",
       " 27,\n",
       " 29,\n",
       " 31,\n",
       " 33,\n",
       " 35,\n",
       " 37,\n",
       " 39,\n",
       " 41,\n",
       " 43,\n",
       " 45,\n",
       " 47,\n",
       " 49,\n",
       " 51,\n",
       " 53,\n",
       " 55,\n",
       " 57,\n",
       " 59,\n",
       " 61,\n",
       " 63,\n",
       " 65,\n",
       " 67,\n",
       " 69,\n",
       " 71,\n",
       " 73,\n",
       " 75,\n",
       " 77,\n",
       " 79,\n",
       " 81,\n",
       " 83,\n",
       " 85,\n",
       " 87,\n",
       " 89,\n",
       " 91,\n",
       " 93,\n",
       " 95,\n",
       " 97,\n",
       " 99,\n",
       " 1,\n",
       " 3,\n",
       " 5,\n",
       " 7,\n",
       " 9,\n",
       " 11,\n",
       " 13,\n",
       " 15,\n",
       " 17,\n",
       " 19,\n",
       " 21,\n",
       " 23,\n",
       " 25,\n",
       " 27,\n",
       " 29,\n",
       " 31,\n",
       " 33,\n",
       " 35,\n",
       " 37,\n",
       " 39,\n",
       " 41,\n",
       " 43,\n",
       " 45,\n",
       " 47,\n",
       " 49,\n",
       " 51,\n",
       " 53,\n",
       " 55,\n",
       " 57,\n",
       " 59,\n",
       " 61,\n",
       " 63,\n",
       " 65,\n",
       " 67,\n",
       " 69,\n",
       " 71,\n",
       " 73,\n",
       " 75,\n",
       " 77,\n",
       " 79,\n",
       " 81,\n",
       " 83,\n",
       " 85,\n",
       " 87,\n",
       " 89,\n",
       " 91,\n",
       " 93,\n",
       " 95,\n",
       " 97,\n",
       " 99]"
      ]
     },
     "execution_count": 45,
     "metadata": {},
     "output_type": "execute_result"
    }
   ],
   "source": [
    "odd()"
   ]
  },
  {
   "cell_type": "code",
   "execution_count": null,
   "id": "d32cb1a0-8a59-403a-bfa3-c24457bb72b4",
   "metadata": {},
   "outputs": [],
   "source": []
  }
 ],
 "metadata": {
  "kernelspec": {
   "display_name": "Python 3 (ipykernel)",
   "language": "python",
   "name": "python3"
  },
  "language_info": {
   "codemirror_mode": {
    "name": "ipython",
    "version": 3
   },
   "file_extension": ".py",
   "mimetype": "text/x-python",
   "name": "python",
   "nbconvert_exporter": "python",
   "pygments_lexer": "ipython3",
   "version": "3.10.8"
  }
 },
 "nbformat": 4,
 "nbformat_minor": 5
}
